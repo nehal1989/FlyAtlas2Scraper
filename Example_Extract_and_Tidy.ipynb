{
 "cells": [
  {
   "cell_type": "code",
   "execution_count": 1,
   "metadata": {},
   "outputs": [],
   "source": [
    "import pandas as pd\n",
    "from AtlasScraper import scrape_fly_atlas2"
   ]
  },
  {
   "cell_type": "markdown",
   "metadata": {},
   "source": [
    "# Scrape Fly Atlast 2"
   ]
  },
  {
   "cell_type": "markdown",
   "metadata": {},
   "source": [
    "The below command will read in a CSV file (example_gene_list.csv) and query the Fly Atlas 2 website/database for the corresponding gene. The collection of gene data will then be stored in a file. In this case specified as output_1.csv."
   ]
  },
  {
   "cell_type": "code",
   "execution_count": 2,
   "metadata": {},
   "outputs": [
    {
     "name": "stdout",
     "output_type": "stream",
     "text": [
      "1 of 12 requested. 8.3% complete.\n",
      "2 of 12 requested. 16.7% complete.\n",
      "3 of 12 requested. 25.0% complete.\n",
      "4 of 12 requested. 33.3% complete.\n",
      "5 of 12 requested. 41.7% complete.\n",
      "6 of 12 requested. 50.0% complete.\n",
      "7 of 12 requested. 58.3% complete.\n",
      "8 of 12 requested. 66.7% complete.\n",
      "9 of 12 requested. 75.0% complete.\n",
      "10 of 12 requested. 83.3% complete.\n",
      "11 of 12 requested. 91.7% complete.\n",
      "12 of 12 requested. 100.0% complete.\n"
     ]
    }
   ],
   "source": [
    "scrape_fly_atlas2('example_gene_list.csv', 'output_1.csv')"
   ]
  },
  {
   "cell_type": "markdown",
   "metadata": {},
   "source": [
    "# Read in data and clean up table"
   ]
  },
  {
   "cell_type": "markdown",
   "metadata": {},
   "source": [
    "The scraped data needs to be tidied up for further analysis as it is not in a datatable format. First need to read in and split by new line, then split by tab delimiter and expand the columns out."
   ]
  },
  {
   "cell_type": "code",
   "execution_count": 3,
   "metadata": {},
   "outputs": [],
   "source": [
    "df = pd.read_csv('output_1.csv', header=None, sep='\\n', encoding = 'utf-8')"
   ]
  },
  {
   "cell_type": "code",
   "execution_count": 4,
   "metadata": {},
   "outputs": [],
   "source": [
    "df = df[0].str.split('\\t', expand=True)"
   ]
  },
  {
   "cell_type": "markdown",
   "metadata": {},
   "source": [
    "## Clean up data table"
   ]
  },
  {
   "cell_type": "markdown",
   "metadata": {},
   "source": [
    "### Rename Columns"
   ]
  },
  {
   "cell_type": "code",
   "execution_count": 5,
   "metadata": {},
   "outputs": [],
   "source": [
    "column_names = [\n",
    "    \"Tissue\",\n",
    "    \"Adult Male FPKM\",\n",
    "    \"Adult Male SD\",\n",
    "    \"Adult Male Enrichment\",\n",
    "    \"Adult Female FPKM\",\n",
    "    \"Adult Female SD\",\n",
    "    \"Adult Female Enrichment\",\n",
    "    \"Male v. Female M/F\",\n",
    "    \"Male v. Female p value\",\n",
    "    \"Larval FPKM\",\n",
    "    \"Larval SD\",\n",
    "    \"Larval Enrichment\",\n",
    "]\n",
    "df.columns = column_names"
   ]
  },
  {
   "cell_type": "markdown",
   "metadata": {},
   "source": [
    "### Extract FlyBase ID, Annotation Symbol, Symbol and Name"
   ]
  },
  {
   "cell_type": "code",
   "execution_count": 6,
   "metadata": {},
   "outputs": [],
   "source": [
    "df.loc[df.Tissue == \"FlyBase ID\", \"FlyBase ID\"] = df[\"Adult Male FPKM\"]\n",
    "df.loc[df.Tissue == \"Annotation Symbol\", \"Annotation Symbol\"] = df[\"Adult Male FPKM\"]\n",
    "df.loc[df.Tissue == \"Symbol\", \"Symbol\"] = df[\"Adult Male FPKM\"]\n",
    "df.loc[df.Tissue == \"Name\", \"Name\"] = df[\"Adult Male FPKM\"]"
   ]
  },
  {
   "cell_type": "markdown",
   "metadata": {},
   "source": [
    "### Fill forward the new columns"
   ]
  },
  {
   "cell_type": "code",
   "execution_count": 7,
   "metadata": {},
   "outputs": [],
   "source": [
    "columns_to_fill_forward = ['FlyBase ID', 'Annotation Symbol', 'Symbol', 'Name']\n",
    "for name in columns_to_fill_forward:\n",
    "    df[name] = df[name].fillna(method='ffill')"
   ]
  },
  {
   "cell_type": "markdown",
   "metadata": {},
   "source": [
    "### Remove errors and unnecessary rows"
   ]
  },
  {
   "cell_type": "code",
   "execution_count": 8,
   "metadata": {},
   "outputs": [],
   "source": [
    "remove_rows_containing = [\"An error has occurred.\",\n",
    "                          \"FlyBase ID\",\n",
    "                          \"Annotation Symbol\",\n",
    "                          \"Symbol\", \n",
    "                          \"Name\", \n",
    "                          \"Tissue\",\n",
    "                         \"\"]\n",
    "df = df[~df.Tissue.isin(remove_rows_containing)]"
   ]
  },
  {
   "cell_type": "code",
   "execution_count": 9,
   "metadata": {},
   "outputs": [
    {
     "data": {
      "text/html": [
       "<div>\n",
       "<style scoped>\n",
       "    .dataframe tbody tr th:only-of-type {\n",
       "        vertical-align: middle;\n",
       "    }\n",
       "\n",
       "    .dataframe tbody tr th {\n",
       "        vertical-align: top;\n",
       "    }\n",
       "\n",
       "    .dataframe thead th {\n",
       "        text-align: right;\n",
       "    }\n",
       "</style>\n",
       "<table border=\"1\" class=\"dataframe\">\n",
       "  <thead>\n",
       "    <tr style=\"text-align: right;\">\n",
       "      <th></th>\n",
       "      <th>Tissue</th>\n",
       "      <th>Adult Male FPKM</th>\n",
       "      <th>Adult Male SD</th>\n",
       "      <th>Adult Male Enrichment</th>\n",
       "      <th>Adult Female FPKM</th>\n",
       "      <th>Adult Female SD</th>\n",
       "      <th>Adult Female Enrichment</th>\n",
       "      <th>Male v. Female M/F</th>\n",
       "      <th>Male v. Female p value</th>\n",
       "      <th>Larval FPKM</th>\n",
       "      <th>Larval SD</th>\n",
       "      <th>Larval Enrichment</th>\n",
       "      <th>FlyBase ID</th>\n",
       "      <th>Annotation Symbol</th>\n",
       "      <th>Symbol</th>\n",
       "      <th>Name</th>\n",
       "    </tr>\n",
       "  </thead>\n",
       "  <tbody>\n",
       "    <tr>\n",
       "      <th>7</th>\n",
       "      <td>Whole body</td>\n",
       "      <td>656.92</td>\n",
       "      <td>18.34</td>\n",
       "      <td>1</td>\n",
       "      <td>1301.8</td>\n",
       "      <td>157.3</td>\n",
       "      <td>1</td>\n",
       "      <td>0.50</td>\n",
       "      <td>p &gt; 0.05</td>\n",
       "      <td>1498.4</td>\n",
       "      <td>178.6</td>\n",
       "      <td>1</td>\n",
       "      <td>FBgn0024733</td>\n",
       "      <td>CG17521</td>\n",
       "      <td>RpL10</td>\n",
       "      <td>Ribosomal protein L10</td>\n",
       "    </tr>\n",
       "    <tr>\n",
       "      <th>8</th>\n",
       "      <td>Head</td>\n",
       "      <td>853.25</td>\n",
       "      <td>77.94</td>\n",
       "      <td>1.3</td>\n",
       "      <td>1545.94</td>\n",
       "      <td>255.86</td>\n",
       "      <td>1.19</td>\n",
       "      <td>0.55</td>\n",
       "      <td>p &gt; 0.05</td>\n",
       "      <td>-</td>\n",
       "      <td>-</td>\n",
       "      <td>-</td>\n",
       "      <td>FBgn0024733</td>\n",
       "      <td>CG17521</td>\n",
       "      <td>RpL10</td>\n",
       "      <td>Ribosomal protein L10</td>\n",
       "    </tr>\n",
       "    <tr>\n",
       "      <th>9</th>\n",
       "      <td>Eye</td>\n",
       "      <td>708.8</td>\n",
       "      <td>121.91</td>\n",
       "      <td>1.08</td>\n",
       "      <td>1607.38</td>\n",
       "      <td>151.26</td>\n",
       "      <td>1.23</td>\n",
       "      <td>0.44</td>\n",
       "      <td>n.s.</td>\n",
       "      <td>-</td>\n",
       "      <td>-</td>\n",
       "      <td>-</td>\n",
       "      <td>FBgn0024733</td>\n",
       "      <td>CG17521</td>\n",
       "      <td>RpL10</td>\n",
       "      <td>Ribosomal protein L10</td>\n",
       "    </tr>\n",
       "    <tr>\n",
       "      <th>10</th>\n",
       "      <td>Brain / CNS</td>\n",
       "      <td>380.67</td>\n",
       "      <td>27.05</td>\n",
       "      <td>0.58</td>\n",
       "      <td>467.4</td>\n",
       "      <td>92.1</td>\n",
       "      <td>0.36</td>\n",
       "      <td>0.81</td>\n",
       "      <td>n.s.</td>\n",
       "      <td>1068.12</td>\n",
       "      <td>57.11</td>\n",
       "      <td>0.71</td>\n",
       "      <td>FBgn0024733</td>\n",
       "      <td>CG17521</td>\n",
       "      <td>RpL10</td>\n",
       "      <td>Ribosomal protein L10</td>\n",
       "    </tr>\n",
       "    <tr>\n",
       "      <th>11</th>\n",
       "      <td>Thoracicoabdominal ganglion</td>\n",
       "      <td>726.38</td>\n",
       "      <td>31.6</td>\n",
       "      <td>1.11</td>\n",
       "      <td>737.81</td>\n",
       "      <td>25.77</td>\n",
       "      <td>0.57</td>\n",
       "      <td>0.98</td>\n",
       "      <td>n.s.</td>\n",
       "      <td>-</td>\n",
       "      <td>-</td>\n",
       "      <td>-</td>\n",
       "      <td>FBgn0024733</td>\n",
       "      <td>CG17521</td>\n",
       "      <td>RpL10</td>\n",
       "      <td>Ribosomal protein L10</td>\n",
       "    </tr>\n",
       "    <tr>\n",
       "      <th>12</th>\n",
       "      <td>Crop</td>\n",
       "      <td>1059.34</td>\n",
       "      <td>21.4</td>\n",
       "      <td>1.61</td>\n",
       "      <td>1359.95</td>\n",
       "      <td>6.46</td>\n",
       "      <td>1.04</td>\n",
       "      <td>0.78</td>\n",
       "      <td>n.s.</td>\n",
       "      <td>-</td>\n",
       "      <td>-</td>\n",
       "      <td>-</td>\n",
       "      <td>FBgn0024733</td>\n",
       "      <td>CG17521</td>\n",
       "      <td>RpL10</td>\n",
       "      <td>Ribosomal protein L10</td>\n",
       "    </tr>\n",
       "    <tr>\n",
       "      <th>13</th>\n",
       "      <td>Midgut</td>\n",
       "      <td>1033.11</td>\n",
       "      <td>99.54</td>\n",
       "      <td>1.57</td>\n",
       "      <td>1533.4</td>\n",
       "      <td>174.08</td>\n",
       "      <td>1.18</td>\n",
       "      <td>0.67</td>\n",
       "      <td>p &gt; 0.05</td>\n",
       "      <td>1026.52</td>\n",
       "      <td>66.24</td>\n",
       "      <td>0.69</td>\n",
       "      <td>FBgn0024733</td>\n",
       "      <td>CG17521</td>\n",
       "      <td>RpL10</td>\n",
       "      <td>Ribosomal protein L10</td>\n",
       "    </tr>\n",
       "    <tr>\n",
       "      <th>14</th>\n",
       "      <td>Hindgut</td>\n",
       "      <td>1075.3</td>\n",
       "      <td>29.37</td>\n",
       "      <td>1.64</td>\n",
       "      <td>1263.62</td>\n",
       "      <td>81.04</td>\n",
       "      <td>0.97</td>\n",
       "      <td>0.85</td>\n",
       "      <td>p &gt; 0.05</td>\n",
       "      <td>1470.42</td>\n",
       "      <td>290.4</td>\n",
       "      <td>0.98</td>\n",
       "      <td>FBgn0024733</td>\n",
       "      <td>CG17521</td>\n",
       "      <td>RpL10</td>\n",
       "      <td>Ribosomal protein L10</td>\n",
       "    </tr>\n",
       "    <tr>\n",
       "      <th>15</th>\n",
       "      <td>Malpighian Tubules</td>\n",
       "      <td>1107.58</td>\n",
       "      <td>78.83</td>\n",
       "      <td>1.69</td>\n",
       "      <td>1499.63</td>\n",
       "      <td>85.33</td>\n",
       "      <td>1.15</td>\n",
       "      <td>0.74</td>\n",
       "      <td>p &gt; 0.01</td>\n",
       "      <td>1159.4</td>\n",
       "      <td>71.25</td>\n",
       "      <td>0.77</td>\n",
       "      <td>FBgn0024733</td>\n",
       "      <td>CG17521</td>\n",
       "      <td>RpL10</td>\n",
       "      <td>Ribosomal protein L10</td>\n",
       "    </tr>\n",
       "    <tr>\n",
       "      <th>16</th>\n",
       "      <td>Fat body</td>\n",
       "      <td>949.83</td>\n",
       "      <td>33.19</td>\n",
       "      <td>1.45</td>\n",
       "      <td>1375.22</td>\n",
       "      <td>119.37</td>\n",
       "      <td>1.06</td>\n",
       "      <td>0.69</td>\n",
       "      <td>p &gt; 0.05</td>\n",
       "      <td>3290.06</td>\n",
       "      <td>261.23</td>\n",
       "      <td>2.2</td>\n",
       "      <td>FBgn0024733</td>\n",
       "      <td>CG17521</td>\n",
       "      <td>RpL10</td>\n",
       "      <td>Ribosomal protein L10</td>\n",
       "    </tr>\n",
       "  </tbody>\n",
       "</table>\n",
       "</div>"
      ],
      "text/plain": [
       "                         Tissue Adult Male FPKM Adult Male SD  \\\n",
       "7                    Whole body          656.92         18.34   \n",
       "8                          Head          853.25         77.94   \n",
       "9                           Eye           708.8        121.91   \n",
       "10                  Brain / CNS          380.67         27.05   \n",
       "11  Thoracicoabdominal ganglion          726.38          31.6   \n",
       "12                         Crop         1059.34          21.4   \n",
       "13                       Midgut         1033.11         99.54   \n",
       "14                      Hindgut          1075.3         29.37   \n",
       "15           Malpighian Tubules         1107.58         78.83   \n",
       "16                     Fat body          949.83         33.19   \n",
       "\n",
       "   Adult Male Enrichment Adult Female FPKM Adult Female SD  \\\n",
       "7                      1            1301.8           157.3   \n",
       "8                    1.3           1545.94          255.86   \n",
       "9                   1.08           1607.38          151.26   \n",
       "10                  0.58             467.4            92.1   \n",
       "11                  1.11            737.81           25.77   \n",
       "12                  1.61           1359.95            6.46   \n",
       "13                  1.57            1533.4          174.08   \n",
       "14                  1.64           1263.62           81.04   \n",
       "15                  1.69           1499.63           85.33   \n",
       "16                  1.45           1375.22          119.37   \n",
       "\n",
       "   Adult Female Enrichment Male v. Female M/F Male v. Female p value  \\\n",
       "7                        1               0.50               p > 0.05   \n",
       "8                     1.19               0.55               p > 0.05   \n",
       "9                     1.23               0.44                   n.s.   \n",
       "10                    0.36               0.81                   n.s.   \n",
       "11                    0.57               0.98                   n.s.   \n",
       "12                    1.04               0.78                   n.s.   \n",
       "13                    1.18               0.67               p > 0.05   \n",
       "14                    0.97               0.85               p > 0.05   \n",
       "15                    1.15               0.74               p > 0.01   \n",
       "16                    1.06               0.69               p > 0.05   \n",
       "\n",
       "   Larval FPKM Larval SD Larval Enrichment   FlyBase ID Annotation Symbol  \\\n",
       "7       1498.4     178.6                 1  FBgn0024733           CG17521   \n",
       "8            -         -                 -  FBgn0024733           CG17521   \n",
       "9            -         -                 -  FBgn0024733           CG17521   \n",
       "10     1068.12     57.11              0.71  FBgn0024733           CG17521   \n",
       "11           -         -                 -  FBgn0024733           CG17521   \n",
       "12           -         -                 -  FBgn0024733           CG17521   \n",
       "13     1026.52     66.24              0.69  FBgn0024733           CG17521   \n",
       "14     1470.42     290.4              0.98  FBgn0024733           CG17521   \n",
       "15      1159.4     71.25              0.77  FBgn0024733           CG17521   \n",
       "16     3290.06    261.23               2.2  FBgn0024733           CG17521   \n",
       "\n",
       "   Symbol                   Name  \n",
       "7   RpL10  Ribosomal protein L10  \n",
       "8   RpL10  Ribosomal protein L10  \n",
       "9   RpL10  Ribosomal protein L10  \n",
       "10  RpL10  Ribosomal protein L10  \n",
       "11  RpL10  Ribosomal protein L10  \n",
       "12  RpL10  Ribosomal protein L10  \n",
       "13  RpL10  Ribosomal protein L10  \n",
       "14  RpL10  Ribosomal protein L10  \n",
       "15  RpL10  Ribosomal protein L10  \n",
       "16  RpL10  Ribosomal protein L10  "
      ]
     },
     "execution_count": 9,
     "metadata": {},
     "output_type": "execute_result"
    }
   ],
   "source": [
    "df.head(10)"
   ]
  },
  {
   "cell_type": "markdown",
   "metadata": {},
   "source": [
    "# Output file to CSV"
   ]
  },
  {
   "cell_type": "markdown",
   "metadata": {},
   "source": [
    "The below command outputs the processed datatable to a csv file for analysis in other software if needed."
   ]
  },
  {
   "cell_type": "code",
   "execution_count": 10,
   "metadata": {},
   "outputs": [],
   "source": [
    "df.to_csv('processed_data.csv')"
   ]
  },
  {
   "cell_type": "code",
   "execution_count": null,
   "metadata": {},
   "outputs": [],
   "source": []
  }
 ],
 "metadata": {
  "kernelspec": {
   "display_name": "Python 3",
   "language": "python",
   "name": "python3"
  },
  "language_info": {
   "codemirror_mode": {
    "name": "ipython",
    "version": 3
   },
   "file_extension": ".py",
   "mimetype": "text/x-python",
   "name": "python",
   "nbconvert_exporter": "python",
   "pygments_lexer": "ipython3",
   "version": "3.7.6"
  }
 },
 "nbformat": 4,
 "nbformat_minor": 4
}
